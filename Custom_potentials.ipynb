{
 "cells": [
  {
   "cell_type": "markdown",
   "metadata": {},
   "source": [
    "# Custom Potentials\n",
    "\n",
    "For development work, you may be applying operators that are not directly supported by PhaseFunc (most efficient because the entries are generated on the fly and never stored). Sometimes you can reinterpret your operator such that it matches an existing PhaseFunc. If not, there are a couple ways around it:\n",
    "- just load the contents of the register into a `numpy.ndarray`, manipulate it in python, and load it back into the register during your SO-QFT loop. BE WARNED - pulling the state out of the qubits, modifying, then putting it back in is a very slow process.\n",
    "- there are two ways to implement arbitary operators on `pyQuEST`:\n",
    "    1. `DiagonalOperator`, an operator which acts on the entire $n$-qubit QuEST register, generated from only a flattened 1D array of the diagonal elements length $2^{n}$. The operator object is only of the same size as the statevector\n",
    "    2. `MatrixOperator`, a matrix that is multiplied onto any specified target qubits. In the real space picture, if you don't have a huge number of qubits and your operators are separable by e.g. particle registers, this might be a good place to start. But you won't be able to store many such matricies if your system is large!"
   ]
  },
  {
   "cell_type": "code",
   "execution_count": 26,
   "metadata": {},
   "outputs": [],
   "source": [
    "import pyquest\n",
    "import numpy as np\n",
    "import math\n",
    "from numpy.polynomial.hermite import hermval\n",
    "from tqdm.notebook import tqdm"
   ]
  },
  {
   "cell_type": "code",
   "execution_count": 27,
   "metadata": {},
   "outputs": [],
   "source": [
    "def harmonic_osc_1D(x, n, m, k, xc):\n",
    "    \"\"\"Generates the eigenfunction of the harmonic oscillator system.\n",
    "    Arguments\n",
    "    x: is a space coordinate.\n",
    "    n: is the vibrational quantum number, for this case only v=0 is considered.\n",
    "    m: is the (reduced) mass of the system.\n",
    "    k: is the force constant of the harmonic potential.\n",
    "    xc: is the equilibrium separation.\n",
    "    \"\"\"\n",
    "\n",
    "    hermite_sum = np.zeros(n+1)\n",
    "    hermite_sum[-1] = 1\n",
    "\n",
    "    return 1/(2**n * math.factorial(n))**0.5 * (((m*k)**0.5)/np.pi)**0.25 * np.exp(-(x-xc)**2 * ((m*k)**0.5)/2) * hermval((m*k)**0.25 * (x-xc),hermite_sum)"
   ]
  },
  {
   "cell_type": "code",
   "execution_count": 28,
   "metadata": {},
   "outputs": [
    {
     "data": {
      "text/plain": [
       "0.9999999931607291"
      ]
     },
     "execution_count": 28,
     "metadata": {},
     "output_type": "execute_result"
    }
   ],
   "source": [
    "# define spatial grid\n",
    "L = 15 # box size is 10\n",
    "n_qubits = 5 # per spatial dimension!\n",
    "\n",
    "dx = L/(2**n_qubits)\n",
    "x_grid = np.array([dx*n for n in range(int(2**n_qubits))])\n",
    "\n",
    "# define wavefunction in 1D\n",
    "psi_x = harmonic_osc_1D(x_grid, n=0, m=1, k=0.1, xc=L/2)\n",
    "# tensor up to form 2D wavefunction in this separable case\n",
    "psi_2D = np.tensordot(psi_x, psi_x, axes=0)\n",
    "\n",
    "# we normalise the wavefunction so that psi_2D itself sums to 1 on a quantum computer.\n",
    "psi_2D = psi_2D * np.sqrt(dx**2)\n",
    "np.sum(abs(psi_2D)**2)\n"
   ]
  },
  {
   "cell_type": "code",
   "execution_count": 29,
   "metadata": {},
   "outputs": [],
   "source": [
    "from pyquest import Register\n",
    "\n",
    "reg_init = Register(n_qubits + n_qubits) # 2x5 qubits!\n",
    "reg_init[:] = psi_2D.flatten()"
   ]
  },
  {
   "cell_type": "code",
   "execution_count": 30,
   "metadata": {},
   "outputs": [],
   "source": [
    "from qarsen_lite.unitaries import gen_QFT_circ, gen_Quadratic_PhaseFunc"
   ]
  },
  {
   "cell_type": "code",
   "execution_count": 31,
   "metadata": {},
   "outputs": [],
   "source": [
    "from pyquest.operators import MatrixOperator"
   ]
  },
  {
   "cell_type": "markdown",
   "metadata": {},
   "source": [
    "In the following example, we generate the propagator for a custom potential (which is actually just the harmonic potential). This should reproduce the result from the first notebook"
   ]
  },
  {
   "cell_type": "code",
   "execution_count": 32,
   "metadata": {},
   "outputs": [],
   "source": [
    "def gen_propagators(n_qubits, dx, xc, dt, m, k):\n",
    "    \"\"\"\n",
    "    Specific for 1 particle in 2D harmonic potential, first order trotter - edit as necessary to generalise\n",
    "    \"\"\"\n",
    "    # qubit targets\n",
    "    init_qbit_idx = 0\n",
    "    targets = []\n",
    "    for _ in range(2):\n",
    "        targets.append(list(range(init_qbit_idx, init_qbit_idx+n_qubits)))\n",
    "        init_qbit_idx += n_qubits\n",
    "    \n",
    "    # QFT circuits\n",
    "    cQFT_circs = [gen_QFT_circ(targets[d][0], targets[d][-1]) for d in range(2)]\n",
    "    icQFT_circs = [circ.inverse for circ in cQFT_circs]\n",
    "    # Kinetic propagator\n",
    "    dp = 2*np.pi/(2**n_qubits * dx)\n",
    "    pc = 2**n_qubits * dp / 2 # calculate the centre of the momentum space\n",
    "    coeff = -dt/(2*m)\n",
    "    K_props = [gen_Quadratic_PhaseFunc(targets[d], dp, coeff, pc) for d in range(2)]\n",
    "\n",
    "    # Potential \n",
    "    n_kets = int(2**n_qubits)\n",
    "    coeff = k*dt/2\n",
    "    x_grid = np.array([n*dx for n in range(n_kets)])\n",
    "    expV_array = np.exp(-1j * coeff * (x_grid-xc)**2) # define custom potential propagator\n",
    "    expV_matrix = np.zeros((n_kets, n_kets), np.complex128)\n",
    "    np.fill_diagonal(expV_matrix, expV_array) # convert to diagonal matrix\n",
    "    V_props = [MatrixOperator(targets[d], expV_matrix) for d in range(2)]\n",
    "\n",
    "    return cQFT_circs, icQFT_circs, K_props, V_props"
   ]
  },
  {
   "cell_type": "code",
   "execution_count": 33,
   "metadata": {},
   "outputs": [],
   "source": [
    "def apply_single_step(reg, qft_circs, iqft_circs, K_props, V_props):\n",
    "    \"\"\"\n",
    "    \"\"\"\n",
    "    for qft in qft_circs:\n",
    "        reg.apply_circuit(qft)\n",
    "    for k in K_props:\n",
    "        reg.apply_operator(k)\n",
    "    for iqft in reversed(iqft_circs):\n",
    "        reg.apply_circuit(iqft)\n",
    "    \n",
    "    for v in V_props:\n",
    "        reg.apply_operator(v)"
   ]
  },
  {
   "cell_type": "code",
   "execution_count": 34,
   "metadata": {},
   "outputs": [],
   "source": [
    "def U_RTE(reg_init, n_qubits, dx, t_tot, n_steps, xc, m, k, sample_every=10):\n",
    "    \"\"\"\n",
    "    \"\"\"\n",
    "    dt = t_tot/n_steps # time resolution\n",
    "    reg = Register(copy_reg=reg_init) # copy initial register\n",
    "    Qft, iQft, K, V = gen_propagators(n_qubits, dx, xc, dt, m, k) # generate propagators\n",
    "\n",
    "    autocorrelation = []\n",
    "    print(\"Running SO-QFT propagation...\")\n",
    "    for n in tqdm(range(n_steps)):\n",
    "        apply_single_step(reg, Qft, iQft, K, V)\n",
    "\n",
    "        # saving autocorrelation\n",
    "        if n%sample_every==0:\n",
    "            autocorrelation.append(reg*reg_init)\n",
    "    print(\"Done!\")\n",
    "    return autocorrelation"
   ]
  },
  {
   "cell_type": "code",
   "execution_count": 35,
   "metadata": {},
   "outputs": [
    {
     "name": "stdout",
     "output_type": "stream",
     "text": [
      "Running SO-QFT propagation...\n"
     ]
    },
    {
     "data": {
      "application/vnd.jupyter.widget-view+json": {
       "model_id": "9d2f50159ec2455a89e2791f4d5b948e",
       "version_major": 2,
       "version_minor": 0
      },
      "text/plain": [
       "  0%|          | 0/500 [00:00<?, ?it/s]"
      ]
     },
     "metadata": {},
     "output_type": "display_data"
    },
    {
     "name": "stdout",
     "output_type": "stream",
     "text": [
      "Done!\n"
     ]
    }
   ],
   "source": [
    "t_tot = 50\n",
    "n_steps = 500\n",
    "sample_every=10\n",
    "auto = U_RTE(reg_init, \n",
    "             n_qubits, \n",
    "             dx, \n",
    "             t_tot=t_tot, \n",
    "             n_steps=n_steps, \n",
    "             xc=L/2, \n",
    "             m=1, \n",
    "             k=0.1, \n",
    "             sample_every=sample_every)"
   ]
  },
  {
   "cell_type": "code",
   "execution_count": 36,
   "metadata": {},
   "outputs": [],
   "source": [
    "import matplotlib.pyplot as plt"
   ]
  },
  {
   "cell_type": "code",
   "execution_count": 12,
   "metadata": {},
   "outputs": [
    {
     "data": {
      "text/plain": [
       "Text(0.5, 0, 't')"
      ]
     },
     "execution_count": 12,
     "metadata": {},
     "output_type": "execute_result"
    },
    {
     "data": {
      "image/png": "[encoded data removed]",
      "text/plain": [
       "<Figure size 640x480 with 1 Axes>"
      ]
     },
     "metadata": {},
     "output_type": "display_data"
    }
   ],
   "source": [
    "t_grid = np.linspace(0, t_tot, int(n_steps/sample_every))\n",
    "plt.plot(t_grid, np.real(auto))\n",
    "plt.plot(t_grid, np.imag(auto))\n",
    "plt.plot(t_grid, np.abs(auto))\n",
    "plt.xlabel(\"t\")"
   ]
  },
  {
   "cell_type": "code",
   "execution_count": null,
   "metadata": {},
   "outputs": [],
   "source": []
  }
 ],
 "metadata": {
  "kernelspec": {
   "display_name": "Python [conda env:grid-q]",
   "language": "python",
   "name": "conda-env-grid-q-py"
  },
  "language_info": {
   "codemirror_mode": {
    "name": "ipython",
    "version": 3
   },
   "file_extension": ".py",
   "mimetype": "text/x-python",
   "name": "python",
   "nbconvert_exporter": "python",
   "pygments_lexer": "ipython3",
   "version": "3.12.4"
  },
  "vscode": {
   "interpreter": {
    "hash": "6d1575507c3394ee2588344eb9d5460fbfa7f4fdab813e7f116e547cbbb97294"
   }
  }
 },
 "nbformat": 4,
 "nbformat_minor": 4
}
